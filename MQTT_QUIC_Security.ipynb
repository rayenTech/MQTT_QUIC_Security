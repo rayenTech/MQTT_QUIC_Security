{
  "nbformat": 4,
  "nbformat_minor": 0,
  "metadata": {
    "colab": {
      "provenance": [],
      "authorship_tag": "ABX9TyOpz7V97+yq/qCSFSJvvJEI",
      "include_colab_link": true
    },
    "kernelspec": {
      "name": "python3",
      "display_name": "Python 3"
    },
    "language_info": {
      "name": "python"
    }
  },
  "cells": [
    {
      "cell_type": "markdown",
      "metadata": {
        "id": "view-in-github",
        "colab_type": "text"
      },
      "source": [
        "<a href=\"https://colab.research.google.com/github/rayenTech/MQTT_QUIC_Security/blob/main/MQTT_QUIC_Security.ipynb\" target=\"_parent\"><img src=\"https://colab.research.google.com/assets/colab-badge.svg\" alt=\"Open In Colab\"/></a>"
      ]
    },
    {
      "cell_type": "code",
      "execution_count": 3,
      "metadata": {
        "colab": {
          "base_uri": "https://localhost:8080/"
        },
        "id": "gC4FX4CeckvA",
        "outputId": "d3105f37-c135-46a0-8b44-3aae3dcafd01"
      },
      "outputs": [
        {
          "output_type": "stream",
          "name": "stdout",
          "text": [
            "Collecting paho-mqtt\n",
            "  Downloading paho_mqtt-2.1.0-py3-none-any.whl.metadata (23 kB)\n",
            "Downloading paho_mqtt-2.1.0-py3-none-any.whl (67 kB)\n",
            "\u001b[2K   \u001b[90m━━━━━━━━━━━━━━━━━━━━━━━━━━━━━━━━━━━━━━━━\u001b[0m \u001b[32m67.2/67.2 kB\u001b[0m \u001b[31m1.7 MB/s\u001b[0m eta \u001b[36m0:00:00\u001b[0m\n",
            "\u001b[?25hInstalling collected packages: paho-mqtt\n",
            "Successfully installed paho-mqtt-2.1.0\n",
            "Collecting aioquic\n",
            "  Downloading aioquic-1.2.0-cp38-abi3-manylinux_2_17_x86_64.manylinux2014_x86_64.whl.metadata (6.3 kB)\n",
            "Requirement already satisfied: certifi in /usr/local/lib/python3.10/dist-packages (from aioquic) (2024.8.30)\n",
            "Requirement already satisfied: cryptography>=42.0.0 in /usr/local/lib/python3.10/dist-packages (from aioquic) (43.0.3)\n",
            "Collecting pylsqpack<0.4.0,>=0.3.3 (from aioquic)\n",
            "  Downloading pylsqpack-0.3.18-cp38-abi3-manylinux_2_17_x86_64.manylinux2014_x86_64.whl.metadata (2.1 kB)\n",
            "Requirement already satisfied: pyopenssl>=24 in /usr/local/lib/python3.10/dist-packages (from aioquic) (24.2.1)\n",
            "Collecting service-identity>=24.1.0 (from aioquic)\n",
            "  Downloading service_identity-24.2.0-py3-none-any.whl.metadata (5.1 kB)\n",
            "Requirement already satisfied: cffi>=1.12 in /usr/local/lib/python3.10/dist-packages (from cryptography>=42.0.0->aioquic) (1.17.1)\n",
            "Requirement already satisfied: attrs>=19.1.0 in /usr/local/lib/python3.10/dist-packages (from service-identity>=24.1.0->aioquic) (24.2.0)\n",
            "Requirement already satisfied: pyasn1 in /usr/local/lib/python3.10/dist-packages (from service-identity>=24.1.0->aioquic) (0.6.1)\n",
            "Requirement already satisfied: pyasn1-modules in /usr/local/lib/python3.10/dist-packages (from service-identity>=24.1.0->aioquic) (0.4.1)\n",
            "Requirement already satisfied: pycparser in /usr/local/lib/python3.10/dist-packages (from cffi>=1.12->cryptography>=42.0.0->aioquic) (2.22)\n",
            "Downloading aioquic-1.2.0-cp38-abi3-manylinux_2_17_x86_64.manylinux2014_x86_64.whl (2.2 MB)\n",
            "\u001b[2K   \u001b[90m━━━━━━━━━━━━━━━━━━━━━━━━━━━━━━━━━━━━━━━━\u001b[0m \u001b[32m2.2/2.2 MB\u001b[0m \u001b[31m21.7 MB/s\u001b[0m eta \u001b[36m0:00:00\u001b[0m\n",
            "\u001b[?25hDownloading pylsqpack-0.3.18-cp38-abi3-manylinux_2_17_x86_64.manylinux2014_x86_64.whl (246 kB)\n",
            "\u001b[2K   \u001b[90m━━━━━━━━━━━━━━━━━━━━━━━━━━━━━━━━━━━━━━━━\u001b[0m \u001b[32m246.5/246.5 kB\u001b[0m \u001b[31m13.1 MB/s\u001b[0m eta \u001b[36m0:00:00\u001b[0m\n",
            "\u001b[?25hDownloading service_identity-24.2.0-py3-none-any.whl (11 kB)\n",
            "Installing collected packages: pylsqpack, service-identity, aioquic\n",
            "Successfully installed aioquic-1.2.0 pylsqpack-0.3.18 service-identity-24.2.0\n",
            "Requirement already satisfied: matplotlib in /usr/local/lib/python3.10/dist-packages (3.8.0)\n",
            "Requirement already satisfied: numpy in /usr/local/lib/python3.10/dist-packages (1.26.4)\n",
            "Requirement already satisfied: contourpy>=1.0.1 in /usr/local/lib/python3.10/dist-packages (from matplotlib) (1.3.1)\n",
            "Requirement already satisfied: cycler>=0.10 in /usr/local/lib/python3.10/dist-packages (from matplotlib) (0.12.1)\n",
            "Requirement already satisfied: fonttools>=4.22.0 in /usr/local/lib/python3.10/dist-packages (from matplotlib) (4.55.0)\n",
            "Requirement already satisfied: kiwisolver>=1.0.1 in /usr/local/lib/python3.10/dist-packages (from matplotlib) (1.4.7)\n",
            "Requirement already satisfied: packaging>=20.0 in /usr/local/lib/python3.10/dist-packages (from matplotlib) (24.2)\n",
            "Requirement already satisfied: pillow>=6.2.0 in /usr/local/lib/python3.10/dist-packages (from matplotlib) (11.0.0)\n",
            "Requirement already satisfied: pyparsing>=2.3.1 in /usr/local/lib/python3.10/dist-packages (from matplotlib) (3.2.0)\n",
            "Requirement already satisfied: python-dateutil>=2.7 in /usr/local/lib/python3.10/dist-packages (from matplotlib) (2.8.2)\n",
            "Requirement already satisfied: six>=1.5 in /usr/local/lib/python3.10/dist-packages (from python-dateutil>=2.7->matplotlib) (1.16.0)\n",
            "Requirement already satisfied: requests in /usr/local/lib/python3.10/dist-packages (2.32.3)\n",
            "Requirement already satisfied: charset-normalizer<4,>=2 in /usr/local/lib/python3.10/dist-packages (from requests) (3.4.0)\n",
            "Requirement already satisfied: idna<4,>=2.5 in /usr/local/lib/python3.10/dist-packages (from requests) (3.10)\n",
            "Requirement already satisfied: urllib3<3,>=1.21.1 in /usr/local/lib/python3.10/dist-packages (from requests) (2.2.3)\n",
            "Requirement already satisfied: certifi>=2017.4.17 in /usr/local/lib/python3.10/dist-packages (from requests) (2024.8.30)\n"
          ]
        }
      ],
      "source": [
        "# Installer les bibliothèques pour MQTT\n",
        "!pip install paho-mqtt\n",
        "\n",
        "# Installer les bibliothèques pour QUIC\n",
        "!pip install aioquic\n",
        "\n",
        "# Installer les bibliothèques pour la visualisation et le traitement des données\n",
        "!pip install matplotlib numpy\n",
        "\n",
        "# Installer les bibliothèques pour requêtes HTTP (si besoin)\n",
        "!pip install requests\n"
      ]
    },
    {
      "cell_type": "code",
      "source": [
        "import paho.mqtt.client as mqtt\n",
        "import time\n",
        "import json\n",
        "\n",
        "# Remplacer par votre API Key MQTT (masquée pour la sécurité)\n",
        "MQTT_API_KEY = \"REDACTED\"\n",
        "CHANNEL_ID = \"REDACTED\"\n",
        "\n",
        "# Configurer le client MQTT\n",
        "MQTT_BROKER = \"mqtt.thingspeak.com\"\n",
        "MQTT_PORT = 1883  # Port par défaut MQTT\n",
        "TOPIC = f\"channels/{CHANNEL_ID}/publish/{MQTT_API_KEY}\"\n",
        "\n",
        "# Données simulées\n",
        "intrusion_attempts = [0, 1, 2, 1, 3, 4, 2, 0, 5, 1]        # Intrusion attempts\n",
        "antivirus_status = [1, 0, 1, 1, 0, 1, 1, 0, 1, 1]          # Antivirus status (1 = active, 0 = inactive)\n",
        "security_alerts = [5, 3, 4, 2, 6, 7, 3, 4, 5, 2]           # Security alerts\n",
        "cpu_usage = [20.5, 30.0, 25.5, 40.0, 35.0, 50.0, 45.5, 30.0, 60.0, 55.0] # CPU usage in percentage\n",
        "login_attempts = [10, 12, 8, 15, 20, 18, 25, 30, 22, 17]   # Login attempts\n",
        "failed_logins = [2, 1, 3, 0, 4, 5, 2, 3, 1, 0]             # Failed logins\n",
        "firewall_blocks = [1, 0, 2, 3, 4, 5, 6, 7, 2, 3]           # Firewall blocks\n",
        "defender_usage = [75.0, 80.5, 70.0, 85.0]                  # Microsoft Defender usage in %\n",
        "\n",
        "# Initialiser le client MQTT\n",
        "client = mqtt.Client()\n",
        "\n",
        "def send_data(client, field_values):\n",
        "    payload = json.dumps(field_values)\n",
        "    client.publish(TOPIC, payload)\n",
        "\n",
        "# Se connecter au broker MQTT\n",
        "client.connect(MQTT_BROKER, MQTT_PORT)\n",
        "\n",
        "# Envoyer des données dans une boucle\n",
        "for i in range(len(intrusion_attempts)):\n",
        "    data = {\n",
        "        \"field1\": intrusion_attempts[i],\n",
        "        \"field4\": cpu_usage[i]\n",
        "    }\n",
        "    send_data(client, data)\n",
        "    print(f\"Data sent: {data}\")\n",
        "    time.sleep(15)  # Respecter les limitations d'envoi\n"
      ],
      "metadata": {
        "id": "KLFUqYQ2xsO0"
      },
      "execution_count": null,
      "outputs": []
    },
    {
      "cell_type": "code",
      "source": [
        "import paho.mqtt.client as mqtt\n",
        "import json\n",
        "\n",
        "# Remplacer par votre API Key MQTT et CHANNEL ID\n",
        "MQTT_API_KEY = \"REDACTED\"\n",
        "CHANNEL_ID = \"REDACTED\"\n",
        "\n",
        "# Configurer le client MQTT\n",
        "MQTT_BROKER = \"mqtt.thingspeak.com\"\n",
        "MQTT_PORT = 1883\n",
        "SUBSCRIBE_TOPIC = f\"channels/{CHANNEL_ID}/subscribe/fields/field1/{MQTT_API_KEY}\"\n",
        "\n",
        "# Callback lorsque des messages arrivent\n",
        "def on_message(client, userdata, message):\n",
        "    payload = json.loads(message.payload.decode())\n",
        "    print(\"Data received:\")\n",
        "    print(payload)\n",
        "\n",
        "# Initialiser le client MQTT\n",
        "client = mqtt.Client()\n",
        "client.on_message = on_message\n",
        "\n",
        "# Connexion au broker MQTT\n",
        "client.connect(MQTT_BROKER, MQTT_PORT)\n",
        "\n",
        "# Souscrire au sujet\n",
        "client.subscribe(SUBSCRIBE_TOPIC)\n",
        "\n",
        "# Récupérer les messages\n",
        "print(\"Waiting for data...\")\n",
        "client.loop_forever()\n"
      ],
      "metadata": {
        "id": "OZ71PKroON_G"
      },
      "execution_count": null,
      "outputs": []
    },
    {
      "cell_type": "code",
      "source": [
        "import asyncio\n",
        "from aioquic.asyncio import connect\n",
        "from aioquic.asyncio.protocol import QuicConnectionProtocol\n",
        "import matplotlib.pyplot as plt\n",
        "\n",
        "# URL et port pour QUIC\n",
        "QUIC_HOST = \"REDACTED\"\n",
        "QUIC_PORT = 443\n",
        "QUIC_PATH = \"/channels/REDACTED/feeds.json\"\n",
        "\n",
        "class QuicClientProtocol(QuicConnectionProtocol):\n",
        "    def __init__(self, *args, **kwargs):\n",
        "        super().__init__(*args, **kwargs)\n",
        "        self.data = None\n",
        "\n",
        "    def quic_event_received(self, event):\n",
        "        if hasattr(event, 'data') and event.data:\n",
        "            self.data = event.data.decode()\n",
        "\n",
        "async def fetch_data():\n",
        "    async with connect(QUIC_HOST, QUIC_PORT, protocol_factory=QuicClientProtocol) as protocol:\n",
        "        stream_id = protocol._quic.get_next_available_stream_id()\n",
        "        request = f\"GET {QUIC_PATH} HTTP/1.1\\r\\nHost: {QUIC_HOST}\\r\\n\\r\\n\"\n",
        "        protocol._quic.send_stream_data(stream_id, request.encode(), end_stream=True)\n",
        "        await protocol.wait_closed()\n",
        "        return protocol.data\n",
        "\n",
        "# Affichage des données\n",
        "async def main():\n",
        "    data = await fetch_data()\n",
        "    feeds = data[\"feeds\"]\n",
        "\n",
        "    intrusion_attempts = [int(feed[\"field1\"]) for feed in feeds if feed[\"field1\"]]\n",
        "    cpu_usage = [float(feed[\"field4\"]) for feed in feeds if feed[\"field4\"]]\n",
        "\n",
        "    plt.plot(intrusion_attempts, label=\"Intrusion Attempts\")\n",
        "    plt.plot(cpu_usage, label=\"CPU Usage\")\n",
        "    plt.legend()\n",
        "    plt.show()\n",
        "\n",
        "asyncio.run(main())\n"
      ],
      "metadata": {
        "id": "oCqqk-mV235E"
      },
      "execution_count": null,
      "outputs": []
    },
    {
      "cell_type": "markdown",
      "source": [],
      "metadata": {
        "id": "YxZcy6_WOURc"
      }
    },
    {
      "cell_type": "markdown",
      "source": [],
      "metadata": {
        "id": "0bBj65yCOUNv"
      }
    }
  ]
}